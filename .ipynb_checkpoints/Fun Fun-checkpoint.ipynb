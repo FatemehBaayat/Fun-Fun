{
 "cells": [
  {
   "cell_type": "code",
   "execution_count": 29,
   "id": "d803f058-2c2a-4ce2-8ed7-eac1989fbcdc",
   "metadata": {},
   "outputs": [],
   "source": [
    "import random"
   ]
  },
  {
   "cell_type": "code",
   "execution_count": 31,
   "id": "7be088a6-4e70-4d5a-b4a2-5e8ce9c3bf30",
   "metadata": {},
   "outputs": [],
   "source": [
    "low = 1\n",
    "high = 99"
   ]
  },
  {
   "cell_type": "markdown",
   "id": "510d423d-ae2f-4135-967d-89e809bd0188",
   "metadata": {},
   "source": [
    "while True:\n",
    "    An #infinite loop is a loop that runs continuously until it's stopped manually or a specific condition is met."
   ]
  },
  {
   "cell_type": "code",
   "execution_count": 38,
   "id": "3efd7e93-37f8-4a14-8316-8274ceae71e2",
   "metadata": {},
   "outputs": [
    {
     "name": "stdout",
     "output_type": "stream",
     "text": [
      "my guess is 50\n"
     ]
    },
    {
     "name": "stdin",
     "output_type": "stream",
     "text": [
      "Am i right? Or larger Or smaller? (right/ larger / smaller) larger\n"
     ]
    },
    {
     "name": "stdout",
     "output_type": "stream",
     "text": [
      "my guess is 75\n"
     ]
    },
    {
     "name": "stdin",
     "output_type": "stream",
     "text": [
      "Am i right? Or larger Or smaller? (right/ larger / smaller) larger\n"
     ]
    },
    {
     "name": "stdout",
     "output_type": "stream",
     "text": [
      "my guess is 87\n"
     ]
    },
    {
     "name": "stdin",
     "output_type": "stream",
     "text": [
      "Am i right? Or larger Or smaller? (right/ larger / smaller) smaller\n"
     ]
    },
    {
     "name": "stdout",
     "output_type": "stream",
     "text": [
      "my guess is 81\n"
     ]
    },
    {
     "name": "stdin",
     "output_type": "stream",
     "text": [
      "Am i right? Or larger Or smaller? (right/ larger / smaller) smaller\n"
     ]
    },
    {
     "name": "stdout",
     "output_type": "stream",
     "text": [
      "my guess is 78\n"
     ]
    },
    {
     "name": "stdin",
     "output_type": "stream",
     "text": [
      "Am i right? Or larger Or smaller? (right/ larger / smaller) smaller\n"
     ]
    },
    {
     "name": "stdout",
     "output_type": "stream",
     "text": [
      "my guess is 76\n"
     ]
    },
    {
     "name": "stdin",
     "output_type": "stream",
     "text": [
      "Am i right? Or larger Or smaller? (right/ larger / smaller) right\n"
     ]
    },
    {
     "name": "stdout",
     "output_type": "stream",
     "text": [
      "WOOOOOW, I'M ROOOOCK!\n"
     ]
    }
   ],
   "source": [
    "while True: \n",
    "    guess = (low + high) // 2 \n",
    "    print(\"my guess is\", guess)\n",
    "    feadback = input(\"Am i right? Or larger Or smaller? (right/ larger / smaller)\")\n",
    "    \n",
    "    if feadback == \"right\":\n",
    "        print(\"WOOOOOW, I'm killing it!\")\n",
    "        break\n",
    "    \n",
    "    elif feadback == \"larger\":\n",
    "        low = guess + 1\n",
    "\n",
    "    elif feadback == \"smaller\":\n",
    "        high = guess - 1\n",
    "\n",
    "    else:\n",
    "        print(\"try again\")"
   ]
  },
  {
   "cell_type": "code",
   "execution_count": null,
   "id": "413e5f9b-5a3d-4800-b25c-00e2f074b6c3",
   "metadata": {},
   "outputs": [],
   "source": []
  }
 ],
 "metadata": {
  "kernelspec": {
   "display_name": "Python 3 (ipykernel)",
   "language": "python",
   "name": "python3"
  },
  "language_info": {
   "codemirror_mode": {
    "name": "ipython",
    "version": 3
   },
   "file_extension": ".py",
   "mimetype": "text/x-python",
   "name": "python",
   "nbconvert_exporter": "python",
   "pygments_lexer": "ipython3",
   "version": "3.12.3"
  }
 },
 "nbformat": 4,
 "nbformat_minor": 5
}
